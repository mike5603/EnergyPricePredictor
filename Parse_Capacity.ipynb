{
 "cells": [
  {
   "cell_type": "code",
   "execution_count": 3,
   "metadata": {},
   "outputs": [],
   "source": [
    "import pandas as pd\n",
    "import numpy as np"
   ]
  },
  {
   "cell_type": "code",
   "execution_count": 4,
   "metadata": {},
   "outputs": [],
   "source": [
    "df = pd.read_csv(\"https://ww2.energy.ca.gov/almanac/electricity_data/web_qfer/source_files/q_WebWorks_QFERGeneratorMonthlyDescriptive_Table.txt\")"
   ]
  },
  {
   "cell_type": "code",
   "execution_count": 5,
   "metadata": {},
   "outputs": [],
   "source": [
    "df[\"Classification\"]=df[\"CECPlantID\"].astype(str).str[0]"
   ]
  },
  {
   "cell_type": "code",
   "execution_count": 6,
   "metadata": {},
   "outputs": [],
   "source": [
    "Solar = df[df[\"Classification\"]==\"S\"]\n",
    "Gas = df[df[\"Classification\"]==\"G\"] \n",
    "Hydro = df[df[\"Classification\"]==\"H\"] \n",
    "Wind = df[df[\"Classification\"]==\"W\"] \n",
    "Geothermal = df[df[\"Classification\"]==\"T\"]\n",
    "Nuclear = df[df[\"Classification\"]==\"N\"] \n",
    "Coal = df[df[\"Classification\"]==\"C\"]\n",
    "Biomass = df[df[\"Classification\"]==\"E\"]"
   ]
  },
  {
   "cell_type": "code",
   "execution_count": 9,
   "metadata": {},
   "outputs": [],
   "source": [
    "Solar_Capacity = Solar.groupby(['Year','Month']).agg({'Capacity':['sum']})\n",
    "Gas_Capacity = Gas.groupby(['Year','Month']).agg({'Capacity':['sum']})\n",
    "Hydro_Capacity = Hydro.groupby(['Year','Month']).agg({'Capacity':['sum']})\n",
    "Wind_Capacity = Wind.groupby(['Year','Month']).agg({'Capacity':['sum']})\n",
    "Geothermal_Capacity = Geothermal.groupby(['Year','Month']).agg({'Capacity':['sum']})\n",
    "Nuclear_Capacity = Nuclear.groupby(['Year','Month']).agg({'Capacity':['sum']})\n",
    "Coal_Capacity = Coal.groupby(['Year','Month']).agg({'Capacity':['sum']})\n",
    "Biomass_Capacity = Biomass.groupby(['Year','Month']).agg({'Capacity':['sum']})"
   ]
  },
  {
   "cell_type": "code",
   "execution_count": 16,
   "metadata": {},
   "outputs": [],
   "source": [
    "Capacity2 = pd.DataFrame(Solar_Capacity)\n",
    "Capacity2.columns = ['Solar Capacity']\n",
    "Capacity2['Gas Capacity'] = Gas_Capacity\n",
    "Capacity2['Hydro Capacity'] = Hydro_Capacity\n",
    "Capacity2['Wind Capacity'] = Wind_Capacity\n",
    "Capacity2['Geothermal Capacity'] = Geothermal_Capacity\n",
    "Capacity2['Nuclear Capacity'] = Nuclear_Capacity\n",
    "Capacity2['Coal Capacity'] = Coal_Capacity\n",
    "Capacity2['Biomass Capacity'] = Biomass_Capacity"
   ]
  },
  {
   "cell_type": "code",
   "execution_count": 36,
   "metadata": {},
   "outputs": [],
   "source": [
    "Capacity2.to_pickle('./Power_Plant_Capacities.pkl')"
   ]
  },
  {
   "cell_type": "code",
   "execution_count": null,
   "metadata": {},
   "outputs": [],
   "source": []
  }
 ],
 "metadata": {
  "kernelspec": {
   "display_name": "Python 3",
   "language": "python",
   "name": "python3"
  },
  "language_info": {
   "codemirror_mode": {
    "name": "ipython",
    "version": 3
   },
   "file_extension": ".py",
   "mimetype": "text/x-python",
   "name": "python",
   "nbconvert_exporter": "python",
   "pygments_lexer": "ipython3",
   "version": "3.7.5"
  }
 },
 "nbformat": 4,
 "nbformat_minor": 4
}
