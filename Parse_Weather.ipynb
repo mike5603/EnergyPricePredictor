{
 "cells": [
  {
   "cell_type": "code",
   "execution_count": 39,
   "metadata": {},
   "outputs": [],
   "source": [
    "import requests\n",
    "import simplejson as json\n",
    "import numpy as np\n",
    "import pandas as pd\n",
    "headers={'token':'KUPgGIeplzQLLJHQzyfFNWfAnpYawKKx'}\n"
   ]
  },
  {
   "cell_type": "code",
   "execution_count": 62,
   "metadata": {},
   "outputs": [],
   "source": [
    "Cities = ['Redding','Sacremento','Fresno','Bakersfield','Los Angeles']\n",
    "StationIDs = ['GHCND:USW00024257','GHCND:USW00023232','GHCND:USW00093193','GHCND:USW00023155','GHCND:USW00023129']\n",
    "\n",
    "DataCatagories = ['AWND','PRCP','TAVG','TMAX','TMIN']\n",
    "weather = pd.DataFrame()\n",
    "\n",
    "for index,StationID in enumerate(StationIDs):\n",
    "    for DataCatagory in DataCatagories:\n",
    "        params={'datasetid':'GHCND','stationid':StationID,'limit':'1000','startdate':'2017-01-01','enddate':'2017-12-31','datatypeid':DataCatagory,'units':'standard'}\n",
    "        test = requests.get('https://www.ncdc.noaa.gov/cdo-web/api/v2/data', headers=headers,params=params)\n",
    "        #print(test.text)\n",
    "\n",
    "        obj = json.loads(test.text)['results']\n",
    "        df = pd.DataFrame.from_dict(obj)[['date','value']]\n",
    "        df['date'] = pd.to_datetime(df['date'], infer_datetime_format=True).dt.date\n",
    "        df = df.set_index('date')\n",
    "\n",
    "\n",
    "        params2={'datasetid':'GHCND','stationid':StationID,'limit':'1000','startdate':'2018-01-01','enddate':'2018-12-31','datatypeid':DataCatagory,'units':'standard'}\n",
    "        test2 = requests.get('https://www.ncdc.noaa.gov/cdo-web/api/v2/data', headers=headers,params=params2)\n",
    "        #print(test.text)\n",
    "        obj2 = json.loads(test2.text)['results']\n",
    "        df2 = pd.DataFrame.from_dict(obj2)[['date','value']]\n",
    "        df2['date'] = pd.to_datetime(df2['date'], infer_datetime_format=True).dt.date\n",
    "        df2 = df2.set_index('date')\n",
    "        df = df.append(df2)\n",
    "        if not weather.empty:\n",
    "            weather['{} {}'.format(Cities[index],DataCatagory)] = df['value']\n",
    "        else:\n",
    "            weather = df.rename(columns={'value':'{} {}'.format(Cities[index],DataCatagory)})\n",
    "\n",
    "weather.to_pickle('./weather.pkl')"
   ]
  }
 ],
 "metadata": {
  "kernelspec": {
   "display_name": "Python 3",
   "language": "python",
   "name": "python3"
  },
  "language_info": {
   "codemirror_mode": {
    "name": "ipython",
    "version": 3
   },
   "file_extension": ".py",
   "mimetype": "text/x-python",
   "name": "python",
   "nbconvert_exporter": "python",
   "pygments_lexer": "ipython3",
   "version": "3.7.5"
  }
 },
 "nbformat": 4,
 "nbformat_minor": 4
}
